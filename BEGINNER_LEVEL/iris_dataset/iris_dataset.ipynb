{
 "cells": [
  {
   "cell_type": "markdown",
   "metadata": {},
   "source": [
    "# Iris Data Set\n",
    "\n",
    "This is probably the most versatile, easy and resourceful dataset in pattern recognition literature. Nothing could be simpler than the Iris dataset to learn classification techniques. If you are totally new to data science, this is your start line. The data has only 150 rows & 4 columns.\n",
    "\n",
    "## Problem: Predict the class of the flower based on available attributes."
   ]
  },
  {
   "cell_type": "markdown",
   "metadata": {},
   "source": [
    "# Explore the data"
   ]
  },
  {
   "cell_type": "code",
   "execution_count": 1,
   "metadata": {},
   "outputs": [],
   "source": [
    "# Importing libraries\n",
    "import pandas as pd\n",
    "import numpy as np\n",
    "from sklearn import datasets\n",
    "import matplotlib.pyplot as plt\n",
    "import sys\n",
    "sys.path.append('../hand_made_stuff')\n",
    "from handmadestuff import fit_predict_report"
   ]
  },
  {
   "cell_type": "code",
   "execution_count": 2,
   "metadata": {},
   "outputs": [],
   "source": [
    "# Converting dataset into dataframe\n",
    "iris = datasets.load_iris()\n",
    "df = pd.DataFrame(np.c_[iris.data, iris.target], \n",
    "                       columns = iris.feature_names + ['targets'])"
   ]
  },
  {
   "cell_type": "code",
   "execution_count": 3,
   "metadata": {},
   "outputs": [],
   "source": [
    "from sklearn.preprocessing import StandardScaler\n",
    "# Separating out the features\n",
    "x = df.iloc[:, 0:4].values\n",
    "# Separating out the target\n",
    "y = df.iloc[:,4]\n",
    "# Standardizing the features\n",
    "x = StandardScaler().fit_transform(x)"
   ]
  },
  {
   "cell_type": "code",
   "execution_count": 4,
   "metadata": {},
   "outputs": [],
   "source": [
    "# PCA Projection to 2D\n",
    "from sklearn.decomposition import PCA\n",
    "pca = PCA(n_components=2)\n",
    "principal_components = pca.fit_transform(x)\n",
    "principal_df = pd.DataFrame(data = principal_components, \n",
    "                           columns = ['principal component 1', 'principal component 2'])"
   ]
  },
  {
   "cell_type": "code",
   "execution_count": 5,
   "metadata": {},
   "outputs": [
    {
     "data": {
      "text/html": [
       "<div>\n",
       "<style scoped>\n",
       "    .dataframe tbody tr th:only-of-type {\n",
       "        vertical-align: middle;\n",
       "    }\n",
       "\n",
       "    .dataframe tbody tr th {\n",
       "        vertical-align: top;\n",
       "    }\n",
       "\n",
       "    .dataframe thead th {\n",
       "        text-align: right;\n",
       "    }\n",
       "</style>\n",
       "<table border=\"1\" class=\"dataframe\">\n",
       "  <thead>\n",
       "    <tr style=\"text-align: right;\">\n",
       "      <th></th>\n",
       "      <th>principal component 1</th>\n",
       "      <th>principal component 2</th>\n",
       "    </tr>\n",
       "  </thead>\n",
       "  <tbody>\n",
       "    <tr>\n",
       "      <th>0</th>\n",
       "      <td>-2.264542</td>\n",
       "      <td>0.505704</td>\n",
       "    </tr>\n",
       "    <tr>\n",
       "      <th>1</th>\n",
       "      <td>-2.086426</td>\n",
       "      <td>-0.655405</td>\n",
       "    </tr>\n",
       "    <tr>\n",
       "      <th>2</th>\n",
       "      <td>-2.367950</td>\n",
       "      <td>-0.318477</td>\n",
       "    </tr>\n",
       "    <tr>\n",
       "      <th>3</th>\n",
       "      <td>-2.304197</td>\n",
       "      <td>-0.575368</td>\n",
       "    </tr>\n",
       "    <tr>\n",
       "      <th>4</th>\n",
       "      <td>-2.388777</td>\n",
       "      <td>0.674767</td>\n",
       "    </tr>\n",
       "  </tbody>\n",
       "</table>\n",
       "</div>"
      ],
      "text/plain": [
       "   principal component 1  principal component 2\n",
       "0              -2.264542               0.505704\n",
       "1              -2.086426              -0.655405\n",
       "2              -2.367950              -0.318477\n",
       "3              -2.304197              -0.575368\n",
       "4              -2.388777               0.674767"
      ]
     },
     "execution_count": 5,
     "metadata": {},
     "output_type": "execute_result"
    }
   ],
   "source": [
    "principal_df.head()"
   ]
  },
  {
   "cell_type": "code",
   "execution_count": 6,
   "metadata": {
    "scrolled": true
   },
   "outputs": [
    {
     "data": {
      "text/html": [
       "<div>\n",
       "<style scoped>\n",
       "    .dataframe tbody tr th:only-of-type {\n",
       "        vertical-align: middle;\n",
       "    }\n",
       "\n",
       "    .dataframe tbody tr th {\n",
       "        vertical-align: top;\n",
       "    }\n",
       "\n",
       "    .dataframe thead th {\n",
       "        text-align: right;\n",
       "    }\n",
       "</style>\n",
       "<table border=\"1\" class=\"dataframe\">\n",
       "  <thead>\n",
       "    <tr style=\"text-align: right;\">\n",
       "      <th></th>\n",
       "      <th>principal component 1</th>\n",
       "      <th>principal component 2</th>\n",
       "      <th>targets</th>\n",
       "    </tr>\n",
       "  </thead>\n",
       "  <tbody>\n",
       "    <tr>\n",
       "      <th>0</th>\n",
       "      <td>-2.264542</td>\n",
       "      <td>0.505704</td>\n",
       "      <td>0.0</td>\n",
       "    </tr>\n",
       "    <tr>\n",
       "      <th>1</th>\n",
       "      <td>-2.086426</td>\n",
       "      <td>-0.655405</td>\n",
       "      <td>0.0</td>\n",
       "    </tr>\n",
       "    <tr>\n",
       "      <th>2</th>\n",
       "      <td>-2.367950</td>\n",
       "      <td>-0.318477</td>\n",
       "      <td>0.0</td>\n",
       "    </tr>\n",
       "    <tr>\n",
       "      <th>3</th>\n",
       "      <td>-2.304197</td>\n",
       "      <td>-0.575368</td>\n",
       "      <td>0.0</td>\n",
       "    </tr>\n",
       "    <tr>\n",
       "      <th>4</th>\n",
       "      <td>-2.388777</td>\n",
       "      <td>0.674767</td>\n",
       "      <td>0.0</td>\n",
       "    </tr>\n",
       "  </tbody>\n",
       "</table>\n",
       "</div>"
      ],
      "text/plain": [
       "   principal component 1  principal component 2  targets\n",
       "0              -2.264542               0.505704      0.0\n",
       "1              -2.086426              -0.655405      0.0\n",
       "2              -2.367950              -0.318477      0.0\n",
       "3              -2.304197              -0.575368      0.0\n",
       "4              -2.388777               0.674767      0.0"
      ]
     },
     "execution_count": 6,
     "metadata": {},
     "output_type": "execute_result"
    }
   ],
   "source": [
    "final_df = pd.concat([principal_df, y], axis = 1)\n",
    "final_df.head()"
   ]
  },
  {
   "cell_type": "code",
   "execution_count": 7,
   "metadata": {},
   "outputs": [
    {
     "data": {
      "image/png": "[encoded data removed]",
      "text/plain": [
       "<Figure size 720x720 with 1 Axes>"
      ]
     },
     "metadata": {},
     "output_type": "display_data"
    }
   ],
   "source": [
    "# Visualize 2D Projection\n",
    "plt.figure(figsize = (10,10)) \n",
    "targets = [0, 1, 2]\n",
    "colors = ['r', 'g', 'b']\n",
    "for target, color in zip(targets,colors):\n",
    "    indices_to_keep = final_df['targets'] == target\n",
    "    plt.scatter(final_df.loc[indices_to_keep, 'principal component 1'], \n",
    "                final_df.loc[indices_to_keep, 'principal component 2'], \n",
    "                c = color, s = 50)\n",
    "plt.legend(iris.target_names)\n",
    "plt.xlabel('\\nPrincipal Component 1', fontsize = 15)\n",
    "plt.ylabel('Principal Component 2', fontsize = 15)\n",
    "plt.title('\\n2 component PCA\\n', fontsize = 20)\n",
    "plt.grid()\n",
    "plt.show()"
   ]
  },
  {
   "cell_type": "markdown",
   "metadata": {},
   "source": [
    "# Applying different models to the dataset.\n",
    "# With all features and after dimensionality reduction"
   ]
  },
  {
   "cell_type": "markdown",
   "metadata": {},
   "source": [
    "## 4 features"
   ]
  },
  {
   "cell_type": "code",
   "execution_count": 8,
   "metadata": {},
   "outputs": [],
   "source": [
    "# Splitting the 4-d dataset into the Training set and Test set\n",
    "from sklearn.model_selection import train_test_split\n",
    "X_train_4d, X_test_4d, y_train_4d, y_test_4d = train_test_split(x, y.values, \n",
    "                                                                test_size = 0.25, \n",
    "                                                                random_state = 0)"
   ]
  },
  {
   "cell_type": "markdown",
   "metadata": {},
   "source": [
    "### KNN"
   ]
  },
  {
   "cell_type": "code",
   "execution_count": 9,
   "metadata": {},
   "outputs": [
    {
     "name": "stdout",
     "output_type": "stream",
     "text": [
      "Classificator used:\n",
      " knn\n",
      "\n",
      "\n",
      "Confusion matrix: \n",
      "\n",
      " [[13  0  0]\n",
      " [ 0 15  1]\n",
      " [ 0  0  9]] \n",
      "\n",
      "\n",
      "Classification report:\n",
      "\n",
      "              precision    recall  f1-score   support\n",
      "\n",
      "        0.0       1.00      1.00      1.00        13\n",
      "        1.0       1.00      0.94      0.97        16\n",
      "        2.0       0.90      1.00      0.95         9\n",
      "\n",
      "avg / total       0.98      0.97      0.97        38\n",
      "\n"
     ]
    }
   ],
   "source": [
    "# Using the function to reduce the amount of written code\n",
    "fit_predict_report(iris, 'knn', X_train_4d, y_train_4d, X_test_4d, y_test_4d, n_neighbors = 5)"
   ]
  },
  {
   "cell_type": "code",
   "execution_count": 10,
   "metadata": {},
   "outputs": [],
   "source": [
    "# Full code to compare\n",
    "# # Fitting classifier to the Training set\n",
    "# from sklearn.neighbors import KNeighborsClassifier\n",
    "# classifier_4d_knn = KNeighborsClassifier(n_neighbors = 5,\n",
    "#                                          metric = 'minkowski',\n",
    "#                                          p = 2)\n",
    "# classifier_4d_knn.fit(X_train_4d, y_train_4d)\n",
    "\n",
    "# # Predicting the Test set results\n",
    "# y_pred_4d_knn = classifier_4d_knn.predict(X_test_4d)\n",
    "\n",
    "# # Confusion matrix\n",
    "# from sklearn.metrics import confusion_matrix\n",
    "# cm_4d_knn = confusion_matrix(y_test_4d, y_pred_4d_knn)\n",
    "# cm_4d_knn\n",
    "\n",
    "# from sklearn.metrics import classification_report\n",
    "# print(classification_report(y_test_4d, y_pred_4d_knn))"
   ]
  },
  {
   "cell_type": "markdown",
   "metadata": {},
   "source": [
    "### SVC"
   ]
  },
  {
   "cell_type": "code",
   "execution_count": 11,
   "metadata": {},
   "outputs": [],
   "source": [
    "# Function which appends a given kernel/C efficiency value to the list\n",
    "def create_a_list_of_efficiencies(list_of_efficiencies, cm):\n",
    "    actual_values_sum = 0\n",
    "    for i in range(len(cm)):\n",
    "        actual_values_sum += cm[i][i]\n",
    "    list_of_efficiencies.append(actual_values_sum)\n",
    "    return list_of_efficiencies"
   ]
  },
  {
   "cell_type": "code",
   "execution_count": 12,
   "metadata": {},
   "outputs": [],
   "source": [
    "from sklearn.svm import SVC\n",
    "from sklearn.metrics import confusion_matrix\n",
    "kernel_efficiencies = []\n",
    "# Choosing the best kernel (not in the most effective way)\n",
    "all_kernels = ['poly', 'rbf', 'sigmoid']\n",
    "for kernel in all_kernels:\n",
    "    \n",
    "    # Fitting classifier to the Training set\n",
    "    classifier_4d_svc = SVC(kernel = kernel)\n",
    "    classifier_4d_svc.fit(X_train_4d, y_train_4d)\n",
    "    \n",
    "    # Predicting the Test set results\n",
    "    y_pred_4d_svc = classifier_4d_svc.predict(X_test_4d)\n",
    "    \n",
    "    # Making the Confusion Matrix\n",
    "    cm_4d_svc = confusion_matrix(y_test_4d, y_pred_4d_svc)\n",
    "    \n",
    "    # it is basically an overkill to have a dict with all efficiency values\n",
    "    kernel_efficiencies = create_a_list_of_efficiencies(kernel_efficiencies, cm_4d_svc)\n",
    "    \n",
    "most_effective_kernel = all_kernels[kernel_efficiencies.index(max(kernel_efficiencies))]"
   ]
  },
  {
   "cell_type": "code",
   "execution_count": 13,
   "metadata": {},
   "outputs": [],
   "source": [
    "C_efficiencies = []\n",
    "# Defining the best C-value\n",
    "for C in range(1, 100):\n",
    "    \n",
    "    # Fitting classifier to the Training set\n",
    "    classifier_4d_svc = SVC(kernel = most_effective_kernel, C = C)\n",
    "    classifier_4d_svc.fit(X_train_4d, y_train_4d)\n",
    "    \n",
    "    # Predicting the Test set results\n",
    "    y_pred_4d_svc = classifier_4d_svc.predict(X_test_4d)\n",
    "    \n",
    "    # Making the Confusion Matrix\n",
    "    cm_4d_svc = confusion_matrix(y_test_4d, y_pred_4d_svc)\n",
    "    \n",
    "    C_efficiencies = create_a_list_of_efficiencies(C_efficiencies, cm_4d_svc)\n",
    "\n",
    "most_effective_C = C_efficiencies.index(max(C_efficiencies)) + 1"
   ]
  },
  {
   "cell_type": "code",
   "execution_count": 14,
   "metadata": {},
   "outputs": [
    {
     "name": "stdout",
     "output_type": "stream",
     "text": [
      "Classificator used:\n",
      " svc\n",
      "\n",
      "\n",
      "Confusion matrix: \n",
      "\n",
      " [[13  0  0]\n",
      " [ 0 15  1]\n",
      " [ 0  0  9]] \n",
      "\n",
      "\n",
      "Classification report:\n",
      "\n",
      "              precision    recall  f1-score   support\n",
      "\n",
      "        0.0       1.00      1.00      1.00        13\n",
      "        1.0       1.00      0.94      0.97        16\n",
      "        2.0       0.90      1.00      0.95         9\n",
      "\n",
      "avg / total       0.98      0.97      0.97        38\n",
      "\n"
     ]
    }
   ],
   "source": [
    "# Using the function to reduce the amount of written code\n",
    "fit_predict_report(iris, 'svc', X_train_4d, y_train_4d, X_test_4d, y_test_4d, \n",
    "                   svc_kernel = most_effective_kernel, svc_c = most_effective_C)"
   ]
  },
  {
   "cell_type": "code",
   "execution_count": 15,
   "metadata": {},
   "outputs": [],
   "source": [
    "# Full code to compare\n",
    "# # Fitting classifier with the optimal parameters to the Training set\n",
    "# classifier_4d_svc = SVC(kernel = most_effective_kernel, C = most_effective_C)\n",
    "# classifier_4d_svc.fit(X_train_4d, y_train_4d)\n",
    "\n",
    "# # Predicting the Test set results\n",
    "# y_pred_4d_svc = classifier_4d_svc.predict(X_test_4d)\n",
    "\n",
    "# # Confusion matrix\n",
    "# cm_4d_svc = confusion_matrix(y_test_4d, y_pred_4d_svc)\n",
    "# cm_4d_svc\n",
    "\n",
    "# print(classification_report(y_test_4d, y_pred_4d_svc))"
   ]
  },
  {
   "cell_type": "markdown",
   "metadata": {},
   "source": [
    "### Logistic regression"
   ]
  },
  {
   "cell_type": "code",
   "execution_count": 16,
   "metadata": {},
   "outputs": [
    {
     "name": "stdout",
     "output_type": "stream",
     "text": [
      "Classificator used:\n",
      " lr\n",
      "\n",
      "\n",
      "Confusion matrix: \n",
      "\n",
      " [[13  0  0]\n",
      " [ 0 10  6]\n",
      " [ 0  1  8]] \n",
      "\n",
      "\n",
      "Classification report:\n",
      "\n",
      "              precision    recall  f1-score   support\n",
      "\n",
      "        0.0       1.00      1.00      1.00        13\n",
      "        1.0       0.91      0.62      0.74        16\n",
      "        2.0       0.57      0.89      0.70         9\n",
      "\n",
      "avg / total       0.86      0.82      0.82        38\n",
      "\n"
     ]
    }
   ],
   "source": [
    "# Using the function to reduce the amount of written code\n",
    "fit_predict_report(iris, 'lr', X_train_4d, y_train_4d, X_test_4d, y_test_4d)"
   ]
  },
  {
   "cell_type": "code",
   "execution_count": 17,
   "metadata": {},
   "outputs": [],
   "source": [
    "# Full code to compare\n",
    "# # Fitting Logistic Regression to the training set\n",
    "# from sklearn.linear_model import LogisticRegression\n",
    "# classifier_4d_lr = LogisticRegression(random_state = 0)\n",
    "# classifier_4d_lr.fit(X_train_4d, y_train_4d)\n",
    "\n",
    "# # Predicting the test set result\n",
    "# y_pred_4d_lr = classifier_4d_lr.predict(X_test_4d)\n",
    "\n",
    "# # Confusion matrix\n",
    "# cm_4d_lr = confusion_matrix(y_test_4d, y_pred_4d_lr)\n",
    "# cm_4d_lr\n",
    "\n",
    "# print(classification_report(y_test_4d, y_pred_4d_lr))"
   ]
  },
  {
   "cell_type": "markdown",
   "metadata": {},
   "source": [
    "## 2 features"
   ]
  },
  {
   "cell_type": "code",
   "execution_count": 18,
   "metadata": {},
   "outputs": [],
   "source": [
    "# Splitting the 2-d dataset into the Training set and Test set\n",
    "X_train_2d, X_test_2d, y_train_2d, y_test_2d = train_test_split(final_df.iloc[:, :2].values, \n",
    "                                                                final_df.iloc[:, 2].values, \n",
    "                                                                test_size = 0.25, \n",
    "                                                                random_state = 0)"
   ]
  },
  {
   "cell_type": "markdown",
   "metadata": {},
   "source": [
    "### KNN"
   ]
  },
  {
   "cell_type": "code",
   "execution_count": 19,
   "metadata": {},
   "outputs": [
    {
     "name": "stdout",
     "output_type": "stream",
     "text": [
      "Classificator used:\n",
      " knn\n",
      "\n",
      "\n",
      "Confusion matrix: \n",
      "\n",
      " [[13  0  0]\n",
      " [ 0 13  3]\n",
      " [ 0  1  8]] \n",
      "\n",
      "\n",
      "Classification report:\n",
      "\n",
      "              precision    recall  f1-score   support\n",
      "\n",
      "        0.0       1.00      1.00      1.00        13\n",
      "        1.0       0.93      0.81      0.87        16\n",
      "        2.0       0.73      0.89      0.80         9\n",
      "\n",
      "avg / total       0.91      0.89      0.90        38\n",
      "\n"
     ]
    },
    {
     "data": {
      "image/png": "[encoded data removed]",
      "text/plain": [
       "<Figure size 720x720 with 1 Axes>"
      ]
     },
     "metadata": {},
     "output_type": "display_data"
    }
   ],
   "source": [
    "fit_predict_report(iris, 'knn', X_train_2d, y_train_2d, X_test_2d, y_test_2d, \n",
    "                    n_neighbors = 5, visualise =True)"
   ]
  },
  {
   "cell_type": "code",
   "execution_count": 20,
   "metadata": {},
   "outputs": [],
   "source": [
    "# Full code to compare\n",
    "# # Fitting classifier to the Training set\n",
    "# from sklearn.neighbors import KNeighborsClassifier\n",
    "# classifier_2d_knn = KNeighborsClassifier(n_neighbors = 5,\n",
    "#                                          metric = 'minkowski',\n",
    "#                                          p = 2)\n",
    "# classifier_2d_knn.fit(X_train_2d, y_train_2d)\n",
    "\n",
    "# # Predicting the Test set results\n",
    "# y_pred_2d_knn = classifier_2d_knn.predict(X_test_2d)\n",
    "# cm_2d_knn = confusion_matrix(y_test_2d, y_pred_2d_knn)\n",
    "# cm_2d_knn\n",
    "\n",
    "# print(classification_report(y_test_2d, y_pred_2d_knn))\n",
    "\n",
    "# # Visualising the dataset\n",
    "# visualise_classifier(classifier_2d_knn, X_train_2d, y_train_2d)"
   ]
  },
  {
   "cell_type": "markdown",
   "metadata": {},
   "source": [
    "### SVC"
   ]
  },
  {
   "cell_type": "code",
   "execution_count": 21,
   "metadata": {},
   "outputs": [],
   "source": [
    "kernel_efficiencies = []\n",
    "# Choosing the best kernel (not in the most effective way)\n",
    "all_kernels = ['poly', 'rbf', 'sigmoid']\n",
    "for kernel in all_kernels:\n",
    "    \n",
    "    # Fitting classifier to the Training set\n",
    "    classifier_2d_svc = SVC(kernel = kernel)\n",
    "    classifier_2d_svc.fit(X_train_2d, y_train_2d)\n",
    "    \n",
    "    # Predicting the Test set results\n",
    "    y_pred_2d_svc = classifier_2d_svc.predict(X_test_2d)\n",
    "    \n",
    "    # Making the Confusion Matrix\n",
    "    cm_2d_svc = confusion_matrix(y_test_2d, y_pred_2d_svc)\n",
    "    \n",
    "    # it is basically an overkill to have a dict with all efficiency values\n",
    "    kernel_efficiencies = create_a_list_of_efficiencies(kernel_efficiencies, cm_2d_svc)\n",
    "    \n",
    "most_effective_kernel = all_kernels[kernel_efficiencies.index(max(kernel_efficiencies))]"
   ]
  },
  {
   "cell_type": "code",
   "execution_count": 22,
   "metadata": {},
   "outputs": [],
   "source": [
    "C_efficiencies = []\n",
    "# Defining the best C-value\n",
    "for C in range(1, 100):\n",
    "    \n",
    "    # Fitting classifier to the Training set\n",
    "    classifier_2d_svc = SVC(kernel = most_effective_kernel, C = C)\n",
    "    classifier_2d_svc.fit(X_train_2d, y_train_2d)\n",
    "    \n",
    "    # Predicting the Test set results\n",
    "    y_pred_2d_svc = classifier_2d_svc.predict(X_test_2d)\n",
    "    \n",
    "    # Making the Confusion Matrix\n",
    "    cm_2d_svc = confusion_matrix(y_test_2d, y_pred_2d_svc)\n",
    "    \n",
    "    C_efficiencies = create_a_list_of_efficiencies(C_efficiencies, cm_2d_svc)\n",
    "\n",
    "most_effective_C = C_efficiencies.index(max(C_efficiencies)) + 1"
   ]
  },
  {
   "cell_type": "code",
   "execution_count": 23,
   "metadata": {},
   "outputs": [
    {
     "name": "stdout",
     "output_type": "stream",
     "text": [
      "Classificator used:\n",
      " svc\n",
      "\n",
      "\n",
      "Confusion matrix: \n",
      "\n",
      " [[13  0  0]\n",
      " [ 0 15  1]\n",
      " [ 0  2  7]] \n",
      "\n",
      "\n",
      "Classification report:\n",
      "\n",
      "              precision    recall  f1-score   support\n",
      "\n",
      "        0.0       1.00      1.00      1.00        13\n",
      "        1.0       0.88      0.94      0.91        16\n",
      "        2.0       0.88      0.78      0.82         9\n",
      "\n",
      "avg / total       0.92      0.92      0.92        38\n",
      "\n"
     ]
    },
    {
     "data": {
      "image/png": "[encoded data removed]",
      "text/plain": [
       "<Figure size 720x720 with 1 Axes>"
      ]
     },
     "metadata": {},
     "output_type": "display_data"
    }
   ],
   "source": [
    "# Using the function to reduce the amount of written code\n",
    "fit_predict_report(iris, 'svc', X_train_2d, y_train_2d, X_test_2d, y_test_2d, \n",
    "                   svc_kernel = most_effective_kernel, svc_c = most_effective_C,\n",
    "                  visualise = True)"
   ]
  },
  {
   "cell_type": "code",
   "execution_count": 24,
   "metadata": {},
   "outputs": [],
   "source": [
    "# Full code to compare\n",
    "# # Fitting classifier with the optimal parameters to the Training set\n",
    "# classifier_2d_svc = SVC(kernel = most_effective_kernel, C = most_effective_C)\n",
    "# classifier_2d_svc.fit(X_train_2d, y_train_2d)\n",
    "\n",
    "# # Predicting the Test set results\n",
    "# y_pred_2d_svc = classifier_2d_svc.predict(X_test_2d)\n",
    "\n",
    "# # Confusion matrix\n",
    "# cm_2d_svc = confusion_matrix(y_test_2d, y_pred_2d_svc)\n",
    "# cm_2d_svc\n",
    "\n",
    "# print(classification_report(y_test_2d, y_pred_2d_svc))\n",
    "\n",
    "# # Visualising the dataset\n",
    "# visualise_classifier(classifier_2d_svc, X_train_2d, y_train_2d)"
   ]
  },
  {
   "cell_type": "markdown",
   "metadata": {},
   "source": [
    "### Logistic regression"
   ]
  },
  {
   "cell_type": "code",
   "execution_count": 25,
   "metadata": {},
   "outputs": [
    {
     "name": "stdout",
     "output_type": "stream",
     "text": [
      "Classificator used:\n",
      " lr\n",
      "\n",
      "\n",
      "Confusion matrix: \n",
      "\n",
      " [[13  0  0]\n",
      " [ 0 10  6]\n",
      " [ 0  0  9]] \n",
      "\n",
      "\n",
      "Classification report:\n",
      "\n",
      "              precision    recall  f1-score   support\n",
      "\n",
      "        0.0       1.00      1.00      1.00        13\n",
      "        1.0       1.00      0.62      0.77        16\n",
      "        2.0       0.60      1.00      0.75         9\n",
      "\n",
      "avg / total       0.91      0.84      0.84        38\n",
      "\n"
     ]
    },
    {
     "data": {
      "image/png": "[encoded data removed]",
      "text/plain": [
       "<Figure size 720x720 with 1 Axes>"
      ]
     },
     "metadata": {},
     "output_type": "display_data"
    }
   ],
   "source": [
    "# Using the function to reduce the amount of written code\n",
    "fit_predict_report(iris, 'lr', X_train_2d, y_train_2d, X_test_2d, y_test_2d, visualise = True)"
   ]
  },
  {
   "cell_type": "code",
   "execution_count": 26,
   "metadata": {},
   "outputs": [],
   "source": [
    "# Full code to compare\n",
    "# # Fitting Logistic Regression to the training set\n",
    "# classifier_2d_lr = LogisticRegression(random_state = 0)\n",
    "# classifier_2d_lr.fit(X_train_2d, y_train_2d)\n",
    "\n",
    "# # Predicting the test set result\n",
    "# y_pred_2d_lr = classifier_2d_lr.predict(X_test_2d)\n",
    "\n",
    "# # Confusion matrix\n",
    "# cm_2d_lr = confusion_matrix(y_test_2d, y_pred_2d_lr)\n",
    "# cm_2d_lr\n",
    "\n",
    "# print(classification_report(y_test_2d, y_pred_2d_lr))\n",
    "\n",
    "# # Visualising the dataset\n",
    "# visualise_classifier(classifier_2d_lr, X_train_2d, y_train_2d)"
   ]
  }
 ],
 "metadata": {
  "kernelspec": {
   "display_name": "Python 3",
   "language": "python",
   "name": "python3"
  },
  "language_info": {
   "codemirror_mode": {
    "name": "ipython",
    "version": 3
   },
   "file_extension": ".py",
   "mimetype": "text/x-python",
   "name": "python",
   "nbconvert_exporter": "python",
   "pygments_lexer": "ipython3",
   "version": "3.6.5"
  }
 },
 "nbformat": 4,
 "nbformat_minor": 2
}
