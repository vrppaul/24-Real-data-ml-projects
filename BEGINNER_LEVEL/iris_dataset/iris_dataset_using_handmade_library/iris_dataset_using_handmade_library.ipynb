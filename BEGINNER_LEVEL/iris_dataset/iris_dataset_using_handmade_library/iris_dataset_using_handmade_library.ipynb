{
 "cells": [
  {
   "cell_type": "code",
   "execution_count": 1,
   "metadata": {},
   "outputs": [],
   "source": [
    "# Importing libraries\n",
    "import pandas as pd\n",
    "import numpy as np\n",
    "import math\n",
    "import operator\n",
    "from mpl_toolkits.mplot3d import Axes3D\n",
    "from sklearn import datasets\n",
    "from sklearn.decomposition import PCA\n",
    "import sys\n",
    "sys.path.append('../hand_made_stuff')\n",
    "from handmadestuff import *"
   ]
  },
  {
   "cell_type": "code",
   "execution_count": 2,
   "metadata": {},
   "outputs": [],
   "source": [
    "# Converting dataset into dataframe\n",
    "iris = datasets.load_iris()\n",
    "iris_df = pd.DataFrame(np.c_[iris.data, iris.target], \n",
    "                       columns = iris.feature_names + ['targets'])"
   ]
  },
  {
   "cell_type": "code",
   "execution_count": 3,
   "metadata": {},
   "outputs": [],
   "source": [
    "# Splitting the dataset\n",
    "X_train, X_test, y_train, y_test = hand_made_train_test_split(iris_df.iloc[:, :4], \n",
    "                                                              iris_df.iloc[:, 4])"
   ]
  },
  {
   "cell_type": "code",
   "execution_count": 4,
   "metadata": {},
   "outputs": [],
   "source": [
    "# Testing the efficiency of the hand-made classifier\n",
    "classifier = HandMadeKNN()\n",
    "classifier.fit(X_train, y_train, 3)\n",
    "handmade_y_pred = classifier.predict(X_test)\n",
    "handmade_cm = hand_made_cm(handmade_y_pred, y_test)"
   ]
  },
  {
   "cell_type": "code",
   "execution_count": 5,
   "metadata": {},
   "outputs": [],
   "source": [
    "# Testing the efficiency of the sklearn classifier\n",
    "from sklearn.neighbors import KNeighborsClassifier\n",
    "classifier = KNeighborsClassifier(n_neighbors = 3,\n",
    "                                  metric = 'minkowski',\n",
    "                                  p = 2)\n",
    "classifier.fit(X_train, y_train)\n",
    "sklearn_y_pred = classifier.predict(X_test)\n",
    "from sklearn.metrics import confusion_matrix\n",
    "sklearn_cm = confusion_matrix(y_test, sklearn_y_pred)"
   ]
  },
  {
   "cell_type": "code",
   "execution_count": 6,
   "metadata": {},
   "outputs": [
    {
     "name": "stdout",
     "output_type": "stream",
     "text": [
      "[[11.  0.  0.]\n",
      " [ 0.  8.  0.]\n",
      " [ 0.  0. 11.]] \n",
      "\n",
      " [[11  0  0]\n",
      " [ 0  8  0]\n",
      " [ 0  0 11]]\n"
     ]
    }
   ],
   "source": [
    "# Displaying both confusion matrices\n",
    "print(handmade_cm, '\\n\\n', sklearn_cm)"
   ]
  },
  {
   "cell_type": "code",
   "execution_count": 7,
   "metadata": {},
   "outputs": [
    {
     "name": "stdout",
     "output_type": "stream",
     "text": [
      "\n",
      "\n",
      "\tHandmade KNN model efficiency: 1.0\n",
      "\n",
      "      \tSklearn KNN model efficiency: 1.0\n",
      "\n",
      "\n"
     ]
    }
   ],
   "source": [
    "# Displaying both confusion matrices' efficiences\n",
    "print(\"\"\"\\n\\n\\tHandmade KNN model efficiency: {0}\\n\n",
    "      \\tSklearn KNN model efficiency: {1}\\n\\n\"\"\"\n",
    "      .format(calculate_efficiency(handmade_cm), calculate_efficiency(sklearn_cm)))"
   ]
  }
 ],
 "metadata": {
  "kernelspec": {
   "display_name": "Python 3",
   "language": "python",
   "name": "python3"
  },
  "language_info": {
   "codemirror_mode": {
    "name": "ipython",
    "version": 3
   },
   "file_extension": ".py",
   "mimetype": "text/x-python",
   "name": "python",
   "nbconvert_exporter": "python",
   "pygments_lexer": "ipython3",
   "version": "3.6.5"
  }
 },
 "nbformat": 4,
 "nbformat_minor": 2
}
